{
 "cells": [
  {
   "cell_type": "markdown",
   "id": "e1c04f8a",
   "metadata": {},
   "source": [
    "# Assessment Cover Page"
   ]
  },
  {
   "cell_type": "markdown",
   "id": "69fdfd72",
   "metadata": {},
   "source": [
    "## Content \n",
    "\n",
    "- ### **[Probability (Discrete)](#section8)**\n",
    "    - **[Introduction](#section9)**\n",
    "    - **[Sample space](#section10)**\n",
    "    - **[Solution 1](#section11)**\n",
    "    - **[Solution 2](#section12)**\n",
    "- ### **[Probability (Continuous)](#section13)**\n",
    "    - **[Introduction](#section14)**\n",
    "    - **[Scenario 1 (exactly 85 minutes in the Zoo)](#section15)**\n",
    "    - **[Scenario 2 (less than 85 minutes in the Zoo)](#section16)**\n",
    "    - **[Scenario 3 (more than 85 minutes in the Zoo)](#section17)**\n",
    "    - **[Scenario 4 (between 85 and 100 minutes in the Zoo)](#section18)**\n",
    "    - **[Scenario 5 (Injuries)](#section19)**\n"
   ]
  },
  {
   "cell_type": "code",
   "execution_count": 40,
   "id": "29ce4b2b",
   "metadata": {},
   "outputs": [],
   "source": [
    "import pandas as pd\n",
    "import warnings\n",
    "import numpy as np\n",
    "import seaborn as sns\n",
    "import matplotlib.pyplot as plt\n",
    "from sklearn.model_selection import train_test_split\n",
    "from sklearn.linear_model import LinearRegression\n",
    "from sklearn.metrics import mean_squared_error, r2_score\n",
    "from sklearn import preprocessing\n",
    "from sklearn.decomposition import PCA\n",
    "from sklearn.model_selection import cross_val_score\n",
    "from sklearn.tree import DecisionTreeClassifier, plot_tree     \n",
    "from sklearn import metrics                           \n",
    "from sklearn import tree\n",
    "from sklearn.metrics import confusion_matrix, classification_report\n",
    "from sklearn.tree import DecisionTreeRegressor\n",
    "from sklearn.svm import SVC\n",
    "from sklearn.preprocessing import LabelEncoder\n",
    "warnings.filterwarnings(\"ignore\")"
   ]
  },
  {
   "cell_type": "markdown",
   "id": "f257fe6c",
   "metadata": {},
   "source": [
    "<a id=\"section8\"></a>\n",
    "## Probability (Discrete)\n"
   ]
  },
  {
   "cell_type": "markdown",
   "id": "77fbb9cd",
   "metadata": {},
   "source": [
    "<a id=\"section9\"></a>\n",
    "### Introduction"
   ]
  },
  {
   "cell_type": "markdown",
   "id": "94fa8c87",
   "metadata": {},
   "source": [
    "For calculating a probability for the given event:\n",
    "\n",
    "**What is the probability of rolling exactly two 6s in five rolls of a fair die?**\n",
    "\n",
    "We will use the binomial probability formula.\n",
    "However, before filling the formula we will try to explain and find each element."
   ]
  },
  {
   "cell_type": "markdown",
   "id": "7dc96826",
   "metadata": {},
   "source": [
    "$$ P(X = k) = \\binom{n}{k} \\times p^k \\times (1-p)^{n-k} $$\n",
    "***\n",
    "**<center> $$ n $$ number of trials  </center>**\n",
    "***\n",
    "**<center> $$ k $$ number of successful outcomes  </center>**\n",
    "***\n",
    "**<center> $$ p $$ probability of success on each trial  </center>**\n",
    "***\n",
    "**<center> $$ \\binom{n}{k} $$ (binomial coefficient) number of ways to choose k successes out of n trials  </center>**\n"
   ]
  },
  {
   "cell_type": "markdown",
   "id": "e22b0c1e",
   "metadata": {},
   "source": [
    "<a id=\"section10\"></a>\n",
    "### Sample space\n",
    "\n",
    "First of all, we will define our sample space which includes all possible outcomes and equals 1 or 100%.\n",
    "We can calculate several possible outcomes by putting 6 in power of 5 because each die with 6 dots is represented in 5 dimensions. We get 7776 possible combinations for five dies. For clarity let's make a simple table."
   ]
  },
  {
   "cell_type": "markdown",
   "id": "e51f2f38",
   "metadata": {},
   "source": [
    "|  Outcome number |die 1|die 2|die 3|die 4|die 5|\n",
    "|---|---|---|---|---|---|\n",
    "|**1**|1|1|1|1|1|\n",
    "|**2**|1|1|1|1|2|\n",
    "|**3**|1|1|1|1|3|\n",
    "|**4**|1|1|1|1|4|\n",
    "|**5**|1|1|1|1|5|\n",
    "|**6**|1|1|1|1|6|\n",
    "|**7**|1|1|1|2|1|\n",
    "|...|...|...|...|...|...|\n",
    "|**7776**|6|6|6|6|6|"
   ]
  },
  {
   "cell_type": "markdown",
   "id": "d1ebac45",
   "metadata": {},
   "source": [
    "So, we can see that the probability of each combination equals (1/7776)=0.00012 or 0.012%. In other words, if we roll the die 5 times the liklyhood of getting an exact combination (in order) is 0.012%. The probability for each combination in this case will be the same because each outcome in a specific order takes only one row in sample space and a \"piece\" of probability which belongs to that row.\n",
    "However, if the order does not matter to us, we can calculate how many times the combination occurs in the sample space. For example combination (1, 2, 3, 4, 5, 6) has 720 possible variations(6 factorial). In other words, the combination (1,2,3,4,5,6) occurs in our sample space with 720 different variations. And if we know that one variation has a probability of 0.00012 we can calculate the probability (0.00012 * 720 = 0.086 or 8.6%)."
   ]
  },
  {
   "cell_type": "markdown",
   "id": "1015e5f5",
   "metadata": {},
   "source": [
    "<a id=\"section11\"></a>\n",
    "### Solution 1"
   ]
  },
  {
   "cell_type": "markdown",
   "id": "10298d40",
   "metadata": {},
   "source": [
    "Regarding the task of getting 2 same 6s among 5 dies with 6 dots each.\n",
    "For this calculation, we need to divide our sample space into two parts (separately 2 and 3 dies). "
   ]
  },
  {
   "cell_type": "markdown",
   "id": "09519263",
   "metadata": {},
   "source": [
    "**<center> Two dies sample space  </center>**\n",
    "\n",
    "|  Outcome number |die 1|die 2|\n",
    "|---|---|---|\n",
    "|**1**|1|1|\n",
    "|**2**|1|2|\n",
    "|**3**|1|3|\n",
    "|**4**|1|4|\n",
    "|**5**|1|5|\n",
    "|**6**|1|6|\n",
    "|**7**|2|1|\n",
    "|...|...|...|\n",
    "|**36**|6|6|"
   ]
  },
  {
   "cell_type": "markdown",
   "id": "e52d6028",
   "metadata": {},
   "source": [
    "For this sample space, we have only 1 row out of 36 which responds to our requirements of getting two 6s. So probability equals 1/36."
   ]
  },
  {
   "cell_type": "markdown",
   "id": "3e1e01c4",
   "metadata": {},
   "source": [
    "Secondly, we need to find the probability that we will get any three numbers on the other dies except number 6.\n",
    "To do this we will create a sample space for 3 dies with 6 dots where the number of variations equals (6 in power of 3 = 216). However, we need to exclude from this sample space all combinations where '6' occurs. To do that we will just form another sample space for 3 dies with 5 dots, which equals (5 in power of 3 = 125). \n",
    "So, now we know that in sample space where 3 dies have 6 dots 216 possible combinations (125 of them any numbers without number 6, and 91 combinations where at least one number 6). Consequently, the probability of getting any number except 6 rolling 3 dies is 125/216."
   ]
  },
  {
   "cell_type": "markdown",
   "id": "644e91c7",
   "metadata": {},
   "source": [
    "**<center> Three dies (with 6s) and (without 6s) sample spaces  </center>**\n",
    "\n",
    "|  Outcome number |die 3|die 4|die 5| |  Outcome number |die 3|die 4|die 5|\n",
    "|---|---|---|---| |---|---|---|---|\n",
    "|**1**|1|1|1| |**1**|1|1|1|\n",
    "|**2**|1|1|2| |**2**|1|1|2|\n",
    "|**3**|1|1|3| |**3**|1|1|3|\n",
    "|**4**|1|1|4| |**4**|1|1|4|\n",
    "|**5**|1|1|5| |**5**|1|1|5|\n",
    "|**6**|1|1|6| |**6**|1|2|1|\n",
    "|**7**|1|2|1| |**7**|1|2|2|\n",
    "|...|...|...|...| |...|...|...|...|\n",
    "|**216**|6|6|6| |**125**|5|5|5|"
   ]
  },
  {
   "cell_type": "markdown",
   "id": "76478301",
   "metadata": {},
   "source": [
    "In this stage we found out all element of the formula exept binomial coefficient."
   ]
  },
  {
   "cell_type": "markdown",
   "id": "ffeabf5b",
   "metadata": {},
   "source": [
    "$$ P(X = 2) =\\binom{n}{k} * \\frac{1}{36} * \\frac{125}{216} $$"
   ]
  },
  {
   "cell_type": "markdown",
   "id": "e5fb09e9",
   "metadata": {},
   "source": [
    "In order to find a binomial coefficient we need complete following formula"
   ]
  },
  {
   "cell_type": "markdown",
   "id": "e2049cc1",
   "metadata": {},
   "source": [
    "$$ \\binom{n}{k} = \\frac{n!}{k!(n-k)!} $$\n"
   ]
  },
  {
   "cell_type": "markdown",
   "id": "10001c60",
   "metadata": {},
   "source": [
    "$$ \\binom{n}{k} = \\frac{5!}{2!(5-2)!} = \\frac{120}{12} = 10 $$"
   ]
  },
  {
   "cell_type": "markdown",
   "id": "90eb0e46",
   "metadata": {},
   "source": [
    "Now we have all part of the formula and we can calculate probability"
   ]
  },
  {
   "cell_type": "markdown",
   "id": "b18d5817",
   "metadata": {},
   "source": [
    "$$ P(X = 2) = 10 * \\frac{1}{36} * \\frac{125}{216} = \\frac{10}{36} * \\frac{125}{216} = \\frac{1250}{7776}$$"
   ]
  },
  {
   "cell_type": "markdown",
   "id": "514784e4",
   "metadata": {},
   "source": [
    "Given value (1250/7776) represents the number of records which respond to our condition (exactly two 6s and 3 any numbers except 6s) in the general sample space. The probability equals **0.1607 or 16%**"
   ]
  },
  {
   "cell_type": "markdown",
   "id": "31feab5f",
   "metadata": {},
   "source": [
    "<a id=\"section12\"></a>\n",
    "### Solution 2"
   ]
  },
  {
   "cell_type": "markdown",
   "id": "495bf14c",
   "metadata": {},
   "source": [
    "We also can calculate the probability using python language.\n",
    "Firstly we need to create a sample space by listing all possible combinations for 5 dies, as it has been done in beginning but in short version.\n",
    "- Import pandas for store data\n",
    "- create a list with digits (possible outcomes for each die)\n",
    "- create an empty list for combinations.\n",
    "- apply a loop for each die which runs through the list(n) \n",
    "- set the same loop within the previos loop, repeat for each die.\n",
    "- create a variable (combination) with will store values from the each loop.\n",
    "- add current combination by function append to the list (sample_space) created before\n",
    "- store sample space as a dataframe using pandas"
   ]
  },
  {
   "cell_type": "code",
   "execution_count": 73,
   "id": "22640b93",
   "metadata": {
    "collapsed": true
   },
   "outputs": [
    {
     "data": {
      "text/plain": [
       "(7776, 5)"
      ]
     },
     "execution_count": 73,
     "metadata": {},
     "output_type": "execute_result"
    }
   ],
   "source": [
    "import pandas as pd\n",
    "\n",
    "n = [1, 2, 3, 4, 5, 6]\n",
    "\n",
    "sample_space = []\n",
    "\n",
    "for die1 in n:\n",
    "    for die2 in n:\n",
    "        for die3 in n:\n",
    "            for die4 in n:\n",
    "                for die5 in n:\n",
    "                    combination = (die1, die2, die3, die4, die5)\n",
    "                    sample_space.append(combination)\n",
    "\n",
    "df = pd.DataFrame(sample_space, columns=['die_1', 'die_2', 'die_3', 'die_4', 'die_5'])\n",
    "\n",
    "df.shape"
   ]
  },
  {
   "cell_type": "markdown",
   "id": "ba0cde5e",
   "metadata": {},
   "source": [
    "As we can see a dataframe was created and it looks exactly as we wanted.\n",
    "Now we need to calculate number of records where \"6\" is written only two times."
   ]
  },
  {
   "cell_type": "code",
   "execution_count": 72,
   "id": "5924939e",
   "metadata": {
    "collapsed": true
   },
   "outputs": [
    {
     "name": "stdout",
     "output_type": "stream",
     "text": [
      "Number of rows only with two 6s -> 1250\n"
     ]
    }
   ],
   "source": [
    "P_X2 = ((df == 6).sum(axis=1) == 2).sum()\n",
    "\n",
    "print(\"Number of rows only with two 6s ->\", P_X2)"
   ]
  },
  {
   "cell_type": "markdown",
   "id": "bdbfe4ce",
   "metadata": {},
   "source": [
    "As we can see we have the same result."
   ]
  },
  {
   "cell_type": "markdown",
   "id": "66c9e041",
   "metadata": {},
   "source": [
    "***"
   ]
  },
  {
   "cell_type": "markdown",
   "id": "e7d2c805",
   "metadata": {},
   "source": [
    "<a id=\"section13\"></a>\n",
    "## Probability (Continuous)"
   ]
  },
  {
   "cell_type": "markdown",
   "id": "028d7209",
   "metadata": {},
   "source": [
    "<a id=\"section14\"></a>\n",
    "### Introduction"
   ]
  },
  {
   "cell_type": "markdown",
   "id": "d85441ec",
   "metadata": {},
   "source": [
    "\n",
    "For calculation the probability of some specific scenario we will use the probability mass function of the Poisson distribution:"
   ]
  },
  {
   "cell_type": "markdown",
   "id": "7a3545ff",
   "metadata": {},
   "source": [
    "$$ P(X = k) = \\frac{e^{-\\lambda} \\lambda^k}{k!} $$"
   ]
  },
  {
   "cell_type": "markdown",
   "id": "2c8422c8",
   "metadata": {},
   "source": [
    "Usind modifications of this formula and including value 1 as a general probability we can calculate a probability for different events, such as:\n",
    "1. Probability that random visitor will spend exactly 85 minutes in the Zoo\n",
    "2. Probability that random visitor will spend less than 85 minutes in the Zoo\n",
    "3. Probability that random visitor will spend more than 85 minutes in the Zoo \n",
    "4. Probability that random visitor will spend between 85 and 100 minutes in the Zoo"
   ]
  },
  {
   "cell_type": "code",
   "execution_count": 120,
   "id": "76de7e3a",
   "metadata": {
    "collapsed": true
   },
   "outputs": [
    {
     "data": {
      "image/png": "[encoded data removed]",
      "text/plain": [
       "<Figure size 800x500 with 1 Axes>"
      ]
     },
     "metadata": {},
     "output_type": "display_data"
    }
   ],
   "source": [
    "import numpy as np\n",
    "import matplotlib.pyplot as plt\n",
    "from scipy.stats import poisson\n",
    "\n",
    "mean = 90\n",
    "x = np.arange(50, 130)\n",
    "\n",
    "dist = poisson.pmf(x, mean)\n",
    "\n",
    "plt.figure(figsize=(8, 5))\n",
    "plt.bar(x, dist, color='blue', alpha=0.9)\n",
    "plt.xlabel('Minutes spend in the Zoo')\n",
    "plt.ylabel('Probability')\n",
    "plt.title('Poisson distribution (mean = 90)')\n",
    "\n",
    "plt.show()"
   ]
  },
  {
   "cell_type": "markdown",
   "id": "d8342908",
   "metadata": {},
   "source": [
    "This chart perfectly illustrates how probability is spread. Each bar represents a number of minute when a visitor left the Zoo. The total length of all bars equals 1 or 100%. Using the probability mass function we can calculate the \"length\" (propbability) for any bar. "
   ]
  },
  {
   "cell_type": "markdown",
   "id": "d436f18f",
   "metadata": {},
   "source": [
    "***"
   ]
  },
  {
   "cell_type": "markdown",
   "id": "6fd0e55f",
   "metadata": {},
   "source": [
    "<a id=\"section15\"></a>\n",
    "### Scenario 1 (exactly 85 minutes in the Zoo)"
   ]
  },
  {
   "cell_type": "markdown",
   "id": "c3689f35",
   "metadata": {},
   "source": [
    "The probability mass function of the Poisson distribution calculates exact probabality for selected segment of the whole distrebution, in other words, the length of specific bar."
   ]
  },
  {
   "cell_type": "markdown",
   "id": "9e6844a7",
   "metadata": {},
   "source": [
    "\n",
    "$$ P(X = 85) = \\frac{2.71828^{-90} 90^{85}}{85!} $$\n",
    "\n",
    "$$ k= target = 85 $$\n",
    "$$ \\lambda = mean = 90 $$\n",
    "$$ e = log = 2.71828 $$\n"
   ]
  },
  {
   "cell_type": "code",
   "execution_count": 132,
   "id": "5324c44e",
   "metadata": {
    "collapsed": true
   },
   "outputs": [
    {
     "name": "stdout",
     "output_type": "stream",
     "text": [
      "P(X=85) = 0.03752609077450859\n",
      "Percentage of probability: 3.7526090774508587 %\n"
     ]
    }
   ],
   "source": [
    "import math\n",
    "k = 85\n",
    "e = 2.71828\n",
    "m = 90\n",
    "f_85 = math.factorial(k)\n",
    "\n",
    "p = ((e ** -m)*(m ** k))/(f_85)\n",
    "p_precentage = p*100\n",
    "print(\"P(X=85) =\", p)\n",
    "print(\"Percentage of probability:\", p_precentage, \"%\")"
   ]
  },
  {
   "cell_type": "markdown",
   "id": "299eec5e",
   "metadata": {},
   "source": [
    "We can conclude that if mean equals 90 minutes per visit, the propality that random visitor will spend exactly 85 minutes equals 3.7%."
   ]
  },
  {
   "cell_type": "markdown",
   "id": "b72d03ee",
   "metadata": {},
   "source": [
    "***"
   ]
  },
  {
   "cell_type": "markdown",
   "id": "107de370",
   "metadata": {},
   "source": [
    "<a id=\"section16\"></a>\n",
    "### Scenario 2 (less than 85 minutes in the Zoo)"
   ]
  },
  {
   "cell_type": "markdown",
   "id": "b9dc126b",
   "metadata": {},
   "source": [
    "Basically, to understand how likely a random visitor will spend in the zoo at least 85 minutes we need to count the probability of each condition from 0 minutes to 85 and sum all results. In this case, the propability of this scenario equals 0.322 or 32.2%. We will slightly adapt our formula to get accumulative value. In Python code, we will apply a loop function for k in the range (0, 86) where each result will be added to the total."
   ]
  },
  {
   "cell_type": "markdown",
   "id": "0b81e14f",
   "metadata": {},
   "source": [
    "$$ P(X < 85) = P(X = 0) + P(X = 1) + P(X = 2)+ P(X = 3)+ P(X = 4) + ... + P(X = 85)$$\n",
    "\n",
    "\n",
    "\n",
    "$$ P(X < k) = \\frac{e^{-\\lambda} \\lambda^k}{k!} = e^{-\\lambda} \\left[\\frac{{\\lambda^k}}{k!}\\right] = e^{-90} \\left[\\frac{{90^0}}{0!} + \\frac{{90^1}}{1!} + \\frac{{90^2}}{2!} + \\frac{{90^3}}{3!} + \\frac{{90^4}}{4!} + ... + \\frac{{90^{85}}}{85!}\\right]$$\n",
    "\n",
    "$$ k= 85 $$\n",
    "$$ \\lambda = 90 $$\n",
    "$$ e = 2.71828 $$"
   ]
  },
  {
   "cell_type": "code",
   "execution_count": 42,
   "id": "f2d48985",
   "metadata": {
    "collapsed": true
   },
   "outputs": [
    {
     "name": "stdout",
     "output_type": "stream",
     "text": [
      "0.3225491811987719\n"
     ]
    }
   ],
   "source": [
    "k = 85\n",
    "e = 2.71828\n",
    "m = 90\n",
    "f_85 = math.factorial(k)\n",
    "total_p = 0\n",
    "\n",
    "for k in range(86):\n",
    "    f_k = math.factorial(k)\n",
    "    p = ((e ** -m)*(m ** k)) / f_k\n",
    "    total_p += p\n",
    "print(total_p)"
   ]
  },
  {
   "cell_type": "markdown",
   "id": "9cdea881",
   "metadata": {},
   "source": [
    "***"
   ]
  },
  {
   "cell_type": "markdown",
   "id": "88c3c82f",
   "metadata": {},
   "source": [
    "<a id=\"section17\"></a>\n",
    "### Scenario 3 (more than 85 minutes in the Zoo)"
   ]
  },
  {
   "cell_type": "markdown",
   "id": "b2e95f53",
   "metadata": {},
   "source": [
    "The issue with continuous probability may be that it usually has a beginning but no defined end. Theoretically, the random visitor can spend a million hours in a zoo. So, it makes us unable to calculate the probability of a scenario when a visitor spends more than 85 minutes in the zoo. However, to sort this we will just take away the value when it is less than 85 minutes from 1 or 100%. In this case, using the value from the previous case we can conclude that the probability that visitors will spend more than 85 minutes equals 0.678 or 67,8 %."
   ]
  },
  {
   "cell_type": "markdown",
   "id": "b673f720",
   "metadata": {},
   "source": [
    "$$ P(X > k) = 1 - P(X < k)$$\n",
    "$$ P(X < 85) = 0.322 $$\n",
    "$$ P(X > k) = 1 - 0.322 = 0.678$$"
   ]
  },
  {
   "cell_type": "markdown",
   "id": "7be4a20a",
   "metadata": {},
   "source": [
    "<a id=\"section18\"></a>\n",
    "### Scenario 4 (between 85 and 100 minutes in the Zoo)"
   ]
  },
  {
   "cell_type": "markdown",
   "id": "b1d37151",
   "metadata": {},
   "source": [
    "If we want to find a probability for the scenario when the visitor spends a minimum of 85 minutes and a maximum of 100 minutes we need to find two accumulative values for 100 minutes and 85 minutes and after taking away the  85 from 100. Or sum up all values between 85 and 100."
   ]
  },
  {
   "cell_type": "markdown",
   "id": "d25c8260",
   "metadata": {},
   "source": [
    "$$ P(X > k < Y) = P(X > k) - P(X < k)$$"
   ]
  },
  {
   "cell_type": "code",
   "execution_count": 49,
   "id": "50b121c6",
   "metadata": {
    "collapsed": true
   },
   "outputs": [
    {
     "name": "stdout",
     "output_type": "stream",
     "text": [
      "0.3225491811987719\n"
     ]
    }
   ],
   "source": [
    "k = 85\n",
    "e = 2.71828\n",
    "m = 90\n",
    "f_85 = math.factorial(k)\n",
    "total_p = 0\n",
    "\n",
    "for k in range(86):\n",
    "    f_k = math.factorial(k)\n",
    "    p = ((e ** -m)*(m ** k)) / f_k\n",
    "    total_p += p\n",
    "print(total_p)"
   ]
  },
  {
   "cell_type": "code",
   "execution_count": 50,
   "id": "41af15d9",
   "metadata": {
    "collapsed": true
   },
   "outputs": [
    {
     "name": "stdout",
     "output_type": "stream",
     "text": [
      "0.8651522098820685\n"
     ]
    }
   ],
   "source": [
    "k = 100\n",
    "e = 2.71828\n",
    "m = 90\n",
    "f_85 = math.factorial(k)\n",
    "total_p = 0\n",
    "\n",
    "for k in range(101):\n",
    "    f_k = math.factorial(k)\n",
    "    p = ((e ** -m)*(m ** k)) / f_k\n",
    "    total_p += p\n",
    "print(total_p)"
   ]
  },
  {
   "cell_type": "markdown",
   "id": "9cf9cd8e",
   "metadata": {},
   "source": [
    "We have a probability for k(85)=0.322 and for k(100)=0.865, p=0.865-0.322, p=0.543\n",
    "\n",
    "We can conlude that probability for scenario when visitor spends between 85 and 100 minutes equals 0.543 or 54.3%"
   ]
  },
  {
   "cell_type": "markdown",
   "id": "88271681",
   "metadata": {},
   "source": [
    "<a id=\"section19\"></a>\n",
    "### Scenario 5 (Injuries)"
   ]
  },
  {
   "cell_type": "markdown",
   "id": "75ee4a4f",
   "metadata": {},
   "source": [
    "Another task we are given is:\n",
    "\n",
    "**The number of industrial injuries on average per working week in a factory is 0.75. Assuming that the distribution of injuries follows a Poisson distribution, find the probability\n",
    "that in a particular week, there will be no more than two accidents.**\n",
    "\n",
    "In order to find probability we are going to use the same probability mass function of the Poisson distribution.\n",
    "As we could notice in the previous case the highest probability belongs to the average value, the further from the mean the lower the probability. In a previous case the mean equals 90, so the probability that random visitors will spend exactly 90 minutes is 4,2% which is the highest for that sample, 91 minutes = 4.1%, 90 minutes = 4%. So, the further the mean we pick a specific event the lower the probability that the event will take place.\n",
    "\n",
    "Let's make a Poisson distribution chart to see how probability is spread."
   ]
  },
  {
   "cell_type": "code",
   "execution_count": 104,
   "id": "108d49fb",
   "metadata": {
    "collapsed": true
   },
   "outputs": [
    {
     "data": {
      "image/png": "[encoded data removed]",
      "text/plain": [
       "<Figure size 600x300 with 1 Axes>"
      ]
     },
     "metadata": {},
     "output_type": "display_data"
    }
   ],
   "source": [
    "\n",
    "mean = 0.75\n",
    "x = np.arange(0, 5)\n",
    "\n",
    "dist = poisson.pmf(x, mean)\n",
    "\n",
    "plt.figure(figsize=(6, 3))\n",
    "plt.bar(x, dist, color='blue', alpha=0.7)\n",
    "plt.xlabel('Number of weeks')\n",
    "plt.ylabel('Probability')\n",
    "plt.title('Poisson distribution (mean = 0.75)')\n",
    "\n",
    "plt.show()\n",
    "\n"
   ]
  },
  {
   "cell_type": "code",
   "execution_count": 113,
   "id": "3c9c7b23",
   "metadata": {
    "collapsed": true
   },
   "outputs": [
    {
     "name": "stdout",
     "output_type": "stream",
     "text": [
      "P(X=2) = 0.13285315998142286\n",
      "Percentage of probability: 13.285315998142286 %\n"
     ]
    }
   ],
   "source": [
    "import math\n",
    "k = 2\n",
    "e = 2.71828\n",
    "m = 0.75\n",
    "f_85 = math.factorial(k)\n",
    "\n",
    "p = ((e ** -m)*(m ** k))/(f_85)\n",
    "p_precentage = p*100\n",
    "print(\"P(X=2) =\", p)\n",
    "print(\"Percentage of probability:\", p_precentage, \"%\")"
   ]
  },
  {
   "cell_type": "markdown",
   "id": "17ffa4e9",
   "metadata": {},
   "source": [
    "We can conclude the probability that 2 injuries will occur within a week equals 0.13 or 13%."
   ]
  },
  {
   "cell_type": "markdown",
   "id": "d3a52068",
   "metadata": {},
   "source": [
    "***"
   ]
  },
  {
   "cell_type": "markdown",
   "id": "0d88b76a",
   "metadata": {},
   "source": [
    "### Author: Ilia Grishkin\n",
    "#### https://github.com/replicant34/Projects\n",
    "### <center>Change log</center>"
   ]
  },
  {
   "cell_type": "markdown",
   "id": "8177862a",
   "metadata": {},
   "source": [
    "|  Date | Change Description | Changed By  |  Status |\n",
    "|---|---|---|---|\n",
    "| 22.03.2024  | Content, structure (titles, subtitles) | Ilia  |  Pushed |\n",
    "| 25.03.2024  | Task 3 - Probability (Continuous) | Ilia  |  Pushed |\n",
    "| 26.03.2024  | Task 2 - Probability (Discrete) part 1 (dies) | Ilia  |  Pushed |\n",
    "| 27.03.2024  | Task 3 - Injuries, grammar check task 2,3 | Ilia  |  Pushed |"
   ]
  },
  {
   "cell_type": "code",
   "execution_count": null,
   "id": "925494cd",
   "metadata": {},
   "outputs": [],
   "source": []
  }
 ],
 "metadata": {
  "kernelspec": {
   "display_name": "Python 3 (ipykernel)",
   "language": "python",
   "name": "python3"
  },
  "language_info": {
   "codemirror_mode": {
    "name": "ipython",
    "version": 3
   },
   "file_extension": ".py",
   "mimetype": "text/x-python",
   "name": "python",
   "nbconvert_exporter": "python",
   "pygments_lexer": "ipython3",
   "version": "3.9.13"
  }
 },
 "nbformat": 4,
 "nbformat_minor": 5
}
