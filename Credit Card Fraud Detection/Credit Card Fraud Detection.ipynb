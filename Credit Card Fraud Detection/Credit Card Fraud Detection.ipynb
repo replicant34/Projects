{
 "cells": [
  {
   "cell_type": "markdown",
   "id": "b0cb38ea",
   "metadata": {},
   "source": [
    "# Credit Card Fraud Detection"
   ]
  },
  {
   "cell_type": "markdown",
   "id": "772dc91c",
   "metadata": {},
   "source": [
    "# Content \n",
    "- **[Import Libraries](#section1)**\n",
    "- **[Download dataset](#section2)**\n",
    "- **[Read the dataset ](#section3)**\n",
    "- **[Visualise percentage of fraud )](#section4)**\n",
    "- **[ROC-AUC Score](#section5)**\n",
    "- **[Scale data and define a target](#section6)**\n",
    "- **[Split data](#section7)**\n",
    "- **[Decision Tree + time run check](#section8)**\n",
    "    - [Decision Tree Evaluation](#section9)\n",
    "- **[Support Vector Machine + time run check](#section10)**\n",
    "    - [upport Vector Machine](#section11)\n",
    "- **[Result](#section12)**"
   ]
  },
  {
   "cell_type": "markdown",
   "id": "b404af95",
   "metadata": {},
   "source": [
    "<a id=\"section1\"></a>\n",
    "### Import Libraries "
   ]
  },
  {
   "cell_type": "code",
   "execution_count": 8,
   "id": "9928f96a",
   "metadata": {},
   "outputs": [],
   "source": [
    "import time\n",
    "import warnings\n",
    "import numpy as np\n",
    "import pandas as pd\n",
    "import opendatasets as od\n",
    "from sklearn import metrics  \n",
    "import matplotlib.pyplot as plt\n",
    "from sklearn.svm import LinearSVC\n",
    "from __future__ import print_function\n",
    "from sklearn.metrics import roc_auc_score\n",
    "from sklearn.tree import DecisionTreeClassifier\n",
    "from sklearn.model_selection import train_test_split\n",
    "from sklearn.preprocessing import normalize, StandardScaler\n",
    "from sklearn.utils.class_weight import compute_sample_weight\n",
    "# pip install snapml\n",
    "# pip install opendatasets"
   ]
  },
  {
   "cell_type": "markdown",
   "id": "785a3d3c",
   "metadata": {},
   "source": [
    "<a id=\"section2\"></a>\n",
    "### Download dataset"
   ]
  },
  {
   "cell_type": "code",
   "execution_count": 2,
   "id": "834de08b",
   "metadata": {},
   "outputs": [
    {
     "name": "stdout",
     "output_type": "stream",
     "text": [
      "Skipping, found downloaded files in \"./creditcardfraud\" (use force=True to force download)\n"
     ]
    }
   ],
   "source": [
    "warnings.filterwarnings(\"ignore\")\n",
    "od.download(\"https://www.kaggle.com/mlg-ulb/creditcardfraud\")"
   ]
  },
  {
   "cell_type": "markdown",
   "id": "d6630330",
   "metadata": {},
   "source": [
    "<a id=\"section3\"></a>\n",
    "### Read the dataset"
   ]
  },
  {
   "cell_type": "code",
   "execution_count": 3,
   "id": "b3a856e1",
   "metadata": {
    "collapsed": true
   },
   "outputs": [
    {
     "data": {
      "text/html": [
       "<div>\n",
       "<style scoped>\n",
       "    .dataframe tbody tr th:only-of-type {\n",
       "        vertical-align: middle;\n",
       "    }\n",
       "\n",
       "    .dataframe tbody tr th {\n",
       "        vertical-align: top;\n",
       "    }\n",
       "\n",
       "    .dataframe thead th {\n",
       "        text-align: right;\n",
       "    }\n",
       "</style>\n",
       "<table border=\"1\" class=\"dataframe\">\n",
       "  <thead>\n",
       "    <tr style=\"text-align: right;\">\n",
       "      <th></th>\n",
       "      <th>Time</th>\n",
       "      <th>V1</th>\n",
       "      <th>V2</th>\n",
       "      <th>V3</th>\n",
       "      <th>V4</th>\n",
       "      <th>V5</th>\n",
       "      <th>V6</th>\n",
       "      <th>V7</th>\n",
       "      <th>V8</th>\n",
       "      <th>V9</th>\n",
       "      <th>...</th>\n",
       "      <th>V21</th>\n",
       "      <th>V22</th>\n",
       "      <th>V23</th>\n",
       "      <th>V24</th>\n",
       "      <th>V25</th>\n",
       "      <th>V26</th>\n",
       "      <th>V27</th>\n",
       "      <th>V28</th>\n",
       "      <th>Amount</th>\n",
       "      <th>Class</th>\n",
       "    </tr>\n",
       "  </thead>\n",
       "  <tbody>\n",
       "    <tr>\n",
       "      <th>0</th>\n",
       "      <td>0.0</td>\n",
       "      <td>-1.359807</td>\n",
       "      <td>-0.072781</td>\n",
       "      <td>2.536347</td>\n",
       "      <td>1.378155</td>\n",
       "      <td>-0.338321</td>\n",
       "      <td>0.462388</td>\n",
       "      <td>0.239599</td>\n",
       "      <td>0.098698</td>\n",
       "      <td>0.363787</td>\n",
       "      <td>...</td>\n",
       "      <td>-0.018307</td>\n",
       "      <td>0.277838</td>\n",
       "      <td>-0.110474</td>\n",
       "      <td>0.066928</td>\n",
       "      <td>0.128539</td>\n",
       "      <td>-0.189115</td>\n",
       "      <td>0.133558</td>\n",
       "      <td>-0.021053</td>\n",
       "      <td>149.62</td>\n",
       "      <td>0</td>\n",
       "    </tr>\n",
       "    <tr>\n",
       "      <th>1</th>\n",
       "      <td>0.0</td>\n",
       "      <td>1.191857</td>\n",
       "      <td>0.266151</td>\n",
       "      <td>0.166480</td>\n",
       "      <td>0.448154</td>\n",
       "      <td>0.060018</td>\n",
       "      <td>-0.082361</td>\n",
       "      <td>-0.078803</td>\n",
       "      <td>0.085102</td>\n",
       "      <td>-0.255425</td>\n",
       "      <td>...</td>\n",
       "      <td>-0.225775</td>\n",
       "      <td>-0.638672</td>\n",
       "      <td>0.101288</td>\n",
       "      <td>-0.339846</td>\n",
       "      <td>0.167170</td>\n",
       "      <td>0.125895</td>\n",
       "      <td>-0.008983</td>\n",
       "      <td>0.014724</td>\n",
       "      <td>2.69</td>\n",
       "      <td>0</td>\n",
       "    </tr>\n",
       "  </tbody>\n",
       "</table>\n",
       "<p>2 rows × 31 columns</p>\n",
       "</div>"
      ],
      "text/plain": [
       "   Time        V1        V2        V3        V4        V5        V6        V7  \\\n",
       "0   0.0 -1.359807 -0.072781  2.536347  1.378155 -0.338321  0.462388  0.239599   \n",
       "1   0.0  1.191857  0.266151  0.166480  0.448154  0.060018 -0.082361 -0.078803   \n",
       "\n",
       "         V8        V9  ...       V21       V22       V23       V24       V25  \\\n",
       "0  0.098698  0.363787  ... -0.018307  0.277838 -0.110474  0.066928  0.128539   \n",
       "1  0.085102 -0.255425  ... -0.225775 -0.638672  0.101288 -0.339846  0.167170   \n",
       "\n",
       "        V26       V27       V28  Amount  Class  \n",
       "0 -0.189115  0.133558 -0.021053  149.62      0  \n",
       "1  0.125895 -0.008983  0.014724    2.69      0  \n",
       "\n",
       "[2 rows x 31 columns]"
      ]
     },
     "execution_count": 3,
     "metadata": {},
     "output_type": "execute_result"
    }
   ],
   "source": [
    "df = pd.read_csv('creditcardfraud/creditcard.csv')\n",
    "df.head(2)"
   ]
  },
  {
   "cell_type": "code",
   "execution_count": 29,
   "id": "f34ec1d9",
   "metadata": {
    "collapsed": true
   },
   "outputs": [
    {
     "data": {
      "text/plain": [
       "(284807, 31)"
      ]
     },
     "execution_count": 29,
     "metadata": {},
     "output_type": "execute_result"
    }
   ],
   "source": [
    "df.shape"
   ]
  },
  {
   "cell_type": "code",
   "execution_count": 33,
   "id": "597fd902",
   "metadata": {
    "collapsed": true
   },
   "outputs": [
    {
     "data": {
      "text/plain": [
       "Time      float64\n",
       "V1        float64\n",
       "V2        float64\n",
       "V3        float64\n",
       "V4        float64\n",
       "V5        float64\n",
       "V6        float64\n",
       "V7        float64\n",
       "V8        float64\n",
       "V9        float64\n",
       "V10       float64\n",
       "V11       float64\n",
       "V12       float64\n",
       "V13       float64\n",
       "V14       float64\n",
       "V15       float64\n",
       "V16       float64\n",
       "V17       float64\n",
       "V18       float64\n",
       "V19       float64\n",
       "V20       float64\n",
       "V21       float64\n",
       "V22       float64\n",
       "V23       float64\n",
       "V24       float64\n",
       "V25       float64\n",
       "V26       float64\n",
       "V27       float64\n",
       "V28       float64\n",
       "Amount    float64\n",
       "Class       int64\n",
       "dtype: object"
      ]
     },
     "execution_count": 33,
     "metadata": {},
     "output_type": "execute_result"
    }
   ],
   "source": [
    "df.dtypes"
   ]
  },
  {
   "cell_type": "markdown",
   "id": "9d64f172",
   "metadata": {},
   "source": [
    "<a id=\"section4\"></a>\n",
    "### Visualise percentage of fraud "
   ]
  },
  {
   "cell_type": "code",
   "execution_count": 3,
   "id": "46f44d6c",
   "metadata": {
    "collapsed": true
   },
   "outputs": [
    {
     "data": {
      "image/png": "[encoded data removed]",
      "text/plain": [
       "<Figure size 640x480 with 1 Axes>"
      ]
     },
     "metadata": {},
     "output_type": "display_data"
    }
   ],
   "source": [
    "labels = df.Class.unique()\n",
    "sizes = df.Class.value_counts().values\n",
    "fig, ax = plt.subplots()\n",
    "ax.pie(sizes, labels=labels, autopct='%1.3f%%')\n",
    "ax.set_title('Target Variable Value Counts')\n",
    "plt.show()"
   ]
  },
  {
   "cell_type": "markdown",
   "id": "d53314b5",
   "metadata": {},
   "source": [
    "<a id=\"section5\"></a>\n",
    "### ROC-AUC Score"
   ]
  },
  {
   "cell_type": "markdown",
   "id": "0e7c6e6b",
   "metadata": {},
   "source": [
    "**Receiver Operating Characteristic - Area Under the Curve** is a performance metric used to evaluate the classification models, in binary classification problems. It quantifies the ability of a model to distinguish between positive and negative classes across different thresholds.\n",
    "**ROC-AUC** provides a single scalar value that summarizes the performance of a binary classification model in terms of its ability to discriminate between positive and negative instances. Higher ROC-AUC scores indicate better model performance.\n",
    "Interpretation:\n",
    "\n",
    "- AUC = 1: Perfect classifier (it achieves perfect separation between positive and negative classes).\n",
    "- AUC = 0.5: Classifier performs as well as random guessing (no discrimination ability).\n",
    "- AUC < 0.5: Classifier performs worse than random guessing (inverse prediction)."
   ]
  },
  {
   "cell_type": "markdown",
   "id": "c38f89fd",
   "metadata": {},
   "source": [
    "<a id=\"section6\"></a>\n",
    "### Scale data and define a target"
   ]
  },
  {
   "cell_type": "code",
   "execution_count": 4,
   "id": "e3a6f50a",
   "metadata": {},
   "outputs": [
    {
     "name": "stdout",
     "output_type": "stream",
     "text": [
      "X.shape= (284807, 29) y.shape= (284807,)\n"
     ]
    }
   ],
   "source": [
    "df.iloc[:, 1:30] = StandardScaler().fit_transform(df.iloc[:, 1:30])\n",
    "data_matrix = df.values\n",
    "X = data_matrix[:, 1:30]\n",
    "y = data_matrix[:, 30]\n",
    "X = normalize(X, norm=\"l1\")\n",
    "print('X.shape=', X.shape, 'y.shape=', y.shape)"
   ]
  },
  {
   "cell_type": "markdown",
   "id": "e863617c",
   "metadata": {},
   "source": [
    "<a id=\"section7\"></a>\n",
    "### Split data"
   ]
  },
  {
   "cell_type": "code",
   "execution_count": 5,
   "id": "2ae2be6e",
   "metadata": {},
   "outputs": [
    {
     "name": "stdout",
     "output_type": "stream",
     "text": [
      "X_train.shape= (199364, 29) Y_train.shape= (199364,)\n",
      "X_test.shape= (85443, 29) Y_test.shape= (85443,)\n"
     ]
    }
   ],
   "source": [
    "X_train, X_test, y_train, y_test = train_test_split(X, y, test_size=0.3, random_state=42, stratify=y)       \n",
    "print('X_train.shape=', X_train.shape, 'Y_train.shape=', y_train.shape)\n",
    "print('X_test.shape=', X_test.shape, 'Y_test.shape=', y_test.shape)"
   ]
  },
  {
   "cell_type": "markdown",
   "id": "636e4687",
   "metadata": {},
   "source": [
    "<a id=\"section8\"></a>\n",
    "### Decision Tree + time run check"
   ]
  },
  {
   "cell_type": "code",
   "execution_count": 6,
   "id": "af6dec53",
   "metadata": {},
   "outputs": [
    {
     "name": "stdout",
     "output_type": "stream",
     "text": [
      "[Scikit-Learn] Training time (s):  2.49551\n"
     ]
    }
   ],
   "source": [
    "w_train = compute_sample_weight('balanced', y_train)\n",
    "sklearn_dt = DecisionTreeClassifier(max_depth=4, random_state=35)\n",
    "t0 = time.time()\n",
    "sklearn_dt.fit(X_train, y_train, sample_weight=w_train)\n",
    "sklearn_time = time.time()-t0\n",
    "print(\"[Scikit-Learn] Training time (s):  {0:.5f}\".format(sklearn_time))"
   ]
  },
  {
   "cell_type": "markdown",
   "id": "b2691466",
   "metadata": {},
   "source": [
    "<a id=\"section9\"></a>\n",
    "#### Decision Tree Evaluation (ROC-AUC score, R2 score)"
   ]
  },
  {
   "cell_type": "code",
   "execution_count": 9,
   "id": "04e9f773",
   "metadata": {},
   "outputs": [
    {
     "name": "stdout",
     "output_type": "stream",
     "text": [
      "Decision tree ROC-AUC score : 0.937\n",
      "Decision tree Accuracy score : 0.971\n"
     ]
    }
   ],
   "source": [
    "sklearn_pred = sklearn_dt.predict_proba(X_test)[:,1]\n",
    "sklearn_roc_auc = roc_auc_score(y_test, sklearn_pred)\n",
    "y_pred = sklearn_dt.predict(X_test)\n",
    "accuracy_score = metrics.accuracy_score(y_test, y_pred)\n",
    "print('Decision tree ROC-AUC score : {0:.3f}'.format(sklearn_roc_auc))\n",
    "print('Decision tree Accuracy score : {0:.3f}'.format(accuracy_score))"
   ]
  },
  {
   "cell_type": "markdown",
   "id": "9b65ef6a",
   "metadata": {},
   "source": [
    "<a id=\"section10\"></a>\n",
    "### Support Vector Machine + time run check"
   ]
  },
  {
   "cell_type": "code",
   "execution_count": 10,
   "id": "2370f357",
   "metadata": {},
   "outputs": [
    {
     "name": "stdout",
     "output_type": "stream",
     "text": [
      "[Scikit-Learn] Training time (s):  19.10\n"
     ]
    }
   ],
   "source": [
    "sklearn_svm = LinearSVC(class_weight='balanced', random_state=31, fit_intercept=False)\n",
    "t0 = time.time()\n",
    "sklearn_svm.fit(X_train, y_train)\n",
    "sklearn_time = time.time() - t0\n",
    "print(\"[Scikit-Learn] Training time (s):  {0:.2f}\".format(sklearn_time))"
   ]
  },
  {
   "cell_type": "markdown",
   "id": "5b6a9ca9",
   "metadata": {},
   "source": [
    "<a id=\"section11\"></a>\n",
    "#### Support Vector Machine Evaluation (ROC-AUC score, R2 score)"
   ]
  },
  {
   "cell_type": "code",
   "execution_count": 11,
   "id": "966ff151",
   "metadata": {},
   "outputs": [
    {
     "name": "stdout",
     "output_type": "stream",
     "text": [
      "Support Vector Machine ROC-AUC score:   0.976\n",
      "Support Vector Machine Accuracy score : 0.971\n"
     ]
    }
   ],
   "source": [
    "sklearn_pred = sklearn_svm.decision_function(X_test)\n",
    "y_pred = sklearn_dt.predict(X_test)\n",
    "accuracy_score = metrics.accuracy_score(y_test, y_pred)\n",
    "acc_sklearn  = roc_auc_score(y_test, sklearn_pred)\n",
    "print(\"Support Vector Machine ROC-AUC score:   {0:.3f}\".format(acc_sklearn))\n",
    "print('Support Vector Machine Accuracy score : {0:.3f}'.format(accuracy_score))"
   ]
  },
  {
   "cell_type": "markdown",
   "id": "ec453753",
   "metadata": {},
   "source": [
    "<a id=\"section11\"></a>\n",
    "### Result"
   ]
  },
  {
   "cell_type": "markdown",
   "id": "c80f6117",
   "metadata": {},
   "source": [
    "**ROC-AUC score of 0.976.  that the model has very good discrimination ability in distinguishing between the positive and negative classes. In other words, there is a high probability (approximately 97.6%) that the model ranks a randomly chosen positive instance higher than a randomly chosen negative instance across different threshold settings. This suggests that the model is performing well and is effective in its classification task.**"
   ]
  },
  {
   "cell_type": "markdown",
   "id": "d46c66c7",
   "metadata": {},
   "source": [
    "<a id=\"section34\"></a>\n",
    "### Author: Ilia Grishkin\n",
    "#### https://github.com/replicant34/"
   ]
  }
 ],
 "metadata": {
  "kernelspec": {
   "display_name": "Python 3 (ipykernel)",
   "language": "python",
   "name": "python3"
  },
  "language_info": {
   "codemirror_mode": {
    "name": "ipython",
    "version": 3
   },
   "file_extension": ".py",
   "mimetype": "text/x-python",
   "name": "python",
   "nbconvert_exporter": "python",
   "pygments_lexer": "ipython3",
   "version": "3.9.13"
  }
 },
 "nbformat": 4,
 "nbformat_minor": 5
}
