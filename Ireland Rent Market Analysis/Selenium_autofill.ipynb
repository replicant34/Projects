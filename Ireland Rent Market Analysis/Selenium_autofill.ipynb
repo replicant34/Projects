{
 "cells": [
  {
   "cell_type": "code",
   "execution_count": 5,
   "id": "16cd4fa6",
   "metadata": {},
   "outputs": [],
   "source": [
    "import time\n",
    "import csv\n",
    "from selenium import webdriver\n",
    "from selenium.webdriver.common.by import By\n",
    "from selenium.webdriver.common.keys import Keys\n",
    "from selenium.webdriver.chrome.options import Options\n",
    "from selenium.webdriver.chrome.service import Service\n",
    "from selenium.common.exceptions import NoSuchElementException\n",
    "import re"
   ]
  },
  {
   "cell_type": "code",
   "execution_count": 16,
   "id": "25655b8e",
   "metadata": {},
   "outputs": [
    {
     "ename": "AttributeError",
     "evalue": "'list' object has no attribute 'find_elements'",
     "output_type": "error",
     "traceback": [
      "\u001b[0;31m---------------------------------------------------------------------------\u001b[0m",
      "\u001b[0;31mAttributeError\u001b[0m                            Traceback (most recent call last)",
      "\u001b[0;32m/var/folders/xv/rzvgqjxn6p91h8mbll11tgzw0000gn/T/ipykernel_22769/4157585792.py\u001b[0m in \u001b[0;36m<module>\u001b[0;34m\u001b[0m\n\u001b[1;32m     18\u001b[0m \u001b[0msub_unit_elements\u001b[0m \u001b[0;34m=\u001b[0m \u001b[0msub_units_container\u001b[0m\u001b[0;34m.\u001b[0m\u001b[0mfind_elements\u001b[0m\u001b[0;34m(\u001b[0m\u001b[0mBy\u001b[0m\u001b[0;34m.\u001b[0m\u001b[0mXPATH\u001b[0m\u001b[0;34m,\u001b[0m \u001b[0;34m'.//li[@data-testid=\"sub-unit-4549770\"]'\u001b[0m\u001b[0;34m)\u001b[0m\u001b[0;34m\u001b[0m\u001b[0;34m\u001b[0m\u001b[0m\n\u001b[1;32m     19\u001b[0m \u001b[0;34m\u001b[0m\u001b[0m\n\u001b[0;32m---> 20\u001b[0;31m \u001b[0mprice_element\u001b[0m \u001b[0;34m=\u001b[0m \u001b[0msub_unit_elements\u001b[0m\u001b[0;34m.\u001b[0m\u001b[0mfind_elements\u001b[0m\u001b[0;34m(\u001b[0m\u001b[0mBy\u001b[0m\u001b[0;34m.\u001b[0m\u001b[0mXPATH\u001b[0m\u001b[0;34m,\u001b[0m \u001b[0;34m'.//p[@data-testid=\"sub-title\"]'\u001b[0m\u001b[0;34m)\u001b[0m\u001b[0;34m\u001b[0m\u001b[0;34m\u001b[0m\u001b[0m\n\u001b[0m\u001b[1;32m     21\u001b[0m \u001b[0;34m\u001b[0m\u001b[0m\n\u001b[1;32m     22\u001b[0m \u001b[0mprice_text\u001b[0m \u001b[0;34m=\u001b[0m \u001b[0mprice_element\u001b[0m\u001b[0;34m.\u001b[0m\u001b[0mtext\u001b[0m\u001b[0;34m\u001b[0m\u001b[0;34m\u001b[0m\u001b[0m\n",
      "\u001b[0;31mAttributeError\u001b[0m: 'list' object has no attribute 'find_elements'"
     ]
    }
   ],
   "source": [
    "browser_driver = Service('/usr/local/bin/chromedriver')\n",
    "\n",
    "page_to_scrape = webdriver.Chrome(service=browser_driver)\n",
    "page_to_scrape.get(\"https://www.daft.ie/property-for-rent/dublin-city\")\n",
    "\n",
    "time.sleep(2)\n",
    "\n",
    "page_to_scrape.find_element(By.ID, \"didomi-notice-learn-more-button\").click()\n",
    "\n",
    "time.sleep(2)\n",
    "\n",
    "page_to_scrape.find_element(By.CLASS_NAME, \"didomi-components-button\").click()\n",
    "\n",
    "time.sleep(2)\n",
    "\n",
    "sub_units_container = page_to_scrape.find_element(By.XPATH, '//div[@data-testid=\"sub-units-container\"]')\n",
    "\n",
    "sub_unit_elements = sub_units_container.find_elements(By.XPATH, './/li[@data-testid=\"sub-unit-4549770\"]')\n",
    "\n",
    "price_element = sub_unit_elements.find_elements(By.XPATH, './/p[@data-testid=\"sub-title\"]')\n",
    "\n",
    "price_text = price_element.text\n",
    "\n",
    "print(sub_units_container)\n",
    "print(sub_unit_elements )\n",
    "print(price_element)\n",
    "print(price_text)\n"
   ]
  },
  {
   "cell_type": "code",
   "execution_count": null,
   "id": "4a68697e",
   "metadata": {},
   "outputs": [],
   "source": [
    "def process_sub_units(page_to_scrape):\n",
    "    try:\n",
    "        # Locate the container of sub-units\n",
    "        sub_units_container = page_to_scrape.find_element(By.XPATH, '//div[@data-testid=\"sub-units-container\"]')\n",
    "\n",
    "        # Locate all the sub-unit elements within the container\n",
    "        sub_unit_elements = sub_units_container.find_elements(By.XPATH, './/li[@data-testid=\"sub-unit-4549770\"]')\n",
    "\n",
    "        for sub_unit_element in sub_unit_elements:\n",
    "            # Extract the price element\n",
    "            price_element = sub_unit_element.find_element(By.XPATH, './/p[@data-testid=\"sub-title\"]')\n",
    "\n",
    "            # Extract the text containing the price\n",
    "            price_text = price_element.text\n",
    "\n",
    "            # Extract the numeric value from the price text\n",
    "            price_numeric = int(re.search(r'\\d+', price_text).group())\n",
    "\n",
    "            # Check the condition\n",
    "            if price_numeric < 2000:\n",
    "                # Click the current sub-unit element if the condition is met\n",
    "                link_element = sub_unit_element.find_element(By.XPATH, '//div[@data-testid=\"sub-units-container\"]')\n",
    "                link_element.click()\n",
    "                print(f\"Clicked the element with price {price_numeric}.\")\n",
    "\n",
    "                # You may choose to break the loop here if you only want to click the first matching element\n",
    "                break\n",
    "\n",
    "            else:\n",
    "                print(f\"Price {price_numeric} is greater than or equal to 2000. Going to the next element.\")\n",
    "\n",
    "    except Exception as e:\n",
    "        print(f\"An error occurred: {e}\")\n",
    "\n",
    "\n",
    "# Call the function to process the sub-units\n",
    "process_sub_units(page_to_scrape)\n",
    "\n",
    "\n"
   ]
  }
 ],
 "metadata": {
  "kernelspec": {
   "display_name": "Python 3 (ipykernel)",
   "language": "python",
   "name": "python3"
  },
  "language_info": {
   "codemirror_mode": {
    "name": "ipython",
    "version": 3
   },
   "file_extension": ".py",
   "mimetype": "text/x-python",
   "name": "python",
   "nbconvert_exporter": "python",
   "pygments_lexer": "ipython3",
   "version": "3.9.13"
  }
 },
 "nbformat": 4,
 "nbformat_minor": 5
}
