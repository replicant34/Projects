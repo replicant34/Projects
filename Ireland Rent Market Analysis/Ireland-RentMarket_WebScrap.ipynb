{
 "cells": [
  {
   "cell_type": "code",
   "execution_count": 1,
   "id": "07406d96",
   "metadata": {},
   "outputs": [],
   "source": [
    "import time\n",
    "import csv\n",
    "from selenium import webdriver\n",
    "from selenium.webdriver.common.by import By\n",
    "from selenium.webdriver.common.keys import Keys\n",
    "from selenium.webdriver.chrome.options import Options\n",
    "from selenium.webdriver.chrome.service import Service\n",
    "from selenium.common.exceptions import NoSuchElementException\n"
   ]
  },
  {
   "cell_type": "code",
   "execution_count": 2,
   "id": "28142d19",
   "metadata": {},
   "outputs": [
    {
     "name": "stdout",
     "output_type": "stream",
     "text": [
      "Processed 0 items\n",
      "Processed 20 items\n",
      "Processed 40 items\n"
     ]
    },
    {
     "ename": "ValueError",
     "evalue": "not enough values to unpack (expected 6, got 5)",
     "output_type": "error",
     "traceback": [
      "\u001b[0;31m---------------------------------------------------------------------------\u001b[0m",
      "\u001b[0;31mValueError\u001b[0m                                Traceback (most recent call last)",
      "\u001b[0;32m/var/folders/xv/rzvgqjxn6p91h8mbll11tgzw0000gn/T/ipykernel_24520/789424741.py\u001b[0m in \u001b[0;36m<module>\u001b[0;34m\u001b[0m\n\u001b[1;32m     32\u001b[0m         \u001b[0mwriter\u001b[0m \u001b[0;34m=\u001b[0m \u001b[0mcsv\u001b[0m\u001b[0;34m.\u001b[0m\u001b[0mwriter\u001b[0m\u001b[0;34m(\u001b[0m\u001b[0mfile\u001b[0m\u001b[0;34m)\u001b[0m\u001b[0;34m\u001b[0m\u001b[0;34m\u001b[0m\u001b[0m\n\u001b[1;32m     33\u001b[0m \u001b[0;34m\u001b[0m\u001b[0m\n\u001b[0;32m---> 34\u001b[0;31m         \u001b[0;32mfor\u001b[0m \u001b[0maddress\u001b[0m\u001b[0;34m,\u001b[0m \u001b[0mprice\u001b[0m\u001b[0;34m,\u001b[0m \u001b[0mbedroom\u001b[0m\u001b[0;34m,\u001b[0m \u001b[0mbathroom\u001b[0m\u001b[0;34m,\u001b[0m \u001b[0mproperty_type\u001b[0m\u001b[0;34m,\u001b[0m \u001b[0mfloor_area\u001b[0m \u001b[0;32min\u001b[0m \u001b[0mzip\u001b[0m\u001b[0;34m(\u001b[0m\u001b[0maddresses\u001b[0m\u001b[0;34m,\u001b[0m \u001b[0mprices\u001b[0m\u001b[0;34m,\u001b[0m \u001b[0mbedrooms\u001b[0m\u001b[0;34m,\u001b[0m \u001b[0mbathrooms\u001b[0m\u001b[0;34m,\u001b[0m \u001b[0mproperty_types\u001b[0m\u001b[0;34m)\u001b[0m\u001b[0;34m:\u001b[0m\u001b[0;34m\u001b[0m\u001b[0;34m\u001b[0m\u001b[0m\n\u001b[0m\u001b[1;32m     35\u001b[0m             \u001b[0mwriter\u001b[0m\u001b[0;34m.\u001b[0m\u001b[0mwriterow\u001b[0m\u001b[0;34m(\u001b[0m\u001b[0;34m[\u001b[0m\u001b[0maddress\u001b[0m\u001b[0;34m.\u001b[0m\u001b[0mtext\u001b[0m\u001b[0;34m,\u001b[0m \u001b[0mprice\u001b[0m\u001b[0;34m.\u001b[0m\u001b[0mtext\u001b[0m\u001b[0;34m,\u001b[0m \u001b[0mbedroom\u001b[0m\u001b[0;34m.\u001b[0m\u001b[0mtext\u001b[0m\u001b[0;34m,\u001b[0m \u001b[0mbathroom\u001b[0m\u001b[0;34m.\u001b[0m\u001b[0mtext\u001b[0m\u001b[0;34m,\u001b[0m \u001b[0mproperty_type\u001b[0m\u001b[0;34m.\u001b[0m\u001b[0mtext\u001b[0m\u001b[0;34m,\u001b[0m \u001b[0mcurrent_date\u001b[0m\u001b[0;34m]\u001b[0m\u001b[0;34m)\u001b[0m\u001b[0;34m\u001b[0m\u001b[0;34m\u001b[0m\u001b[0m\n\u001b[1;32m     36\u001b[0m \u001b[0;34m\u001b[0m\u001b[0m\n",
      "\u001b[0;31mValueError\u001b[0m: not enough values to unpack (expected 6, got 5)"
     ]
    }
   ],
   "source": [
    "base_url = 'https://www.daft.ie/property-for-rent/ireland?from='\n",
    "add_url = '&pageSize=20'\n",
    "headers = {\n",
    "    \"User-Agent\": \"Mozilla/5.0 (Macintosh; Intel Mac OS X 10_15_7) AppleWebKit/605.1.15 (KHTML, like Gecko) Version/17.0 Safari/605.1.15\"\n",
    "}\n",
    "current_date = datetime.date.today()\n",
    "csv_file_path = 'Ireland-RentMarket10.csv'\n",
    "\n",
    "file = open('Ireland-RentMarket10.csv', 'w', newline='')\n",
    "writer = csv.writer(file)\n",
    "writer.writerow(['Address', 'Price', 'Bedrooms', 'Bathrooms', 'Property_type','Date'])\n",
    "\n",
    "for i in range(0, 1950, 20):\n",
    "    url = f'{base_url}{i}{add_url}'\n",
    "    \n",
    "    page = requests.get(url, headers=headers)\n",
    "    \n",
    "    if page.status_code == 200:\n",
    "        soup1 = BeautifulSoup(page.content, \"html.parser\")\n",
    "        soup2 = BeautifulSoup(soup1.prettify())\n",
    "\n",
    "        addresses = soup2.find_all('h2', {'data-testid': 'address', 'class': 'TitleBlock__Address-sc-1avkvav-8 dzihyY'})\n",
    "        prices = soup2.find_all('h3', {'class' : \"TitleBlock__StyledCustomHeading-sc-1avkvav-5 blbeVq\"})\n",
    "        bedrooms = soup2.find_all('p', {'data-testid' : 'beds'})\n",
    "        bathrooms = soup2.find_all('p', {'data-testid' : 'baths'})\n",
    "        property_types = soup2.find_all('p', {'data-testid' : 'property-type'})\n",
    "\n",
    "\n",
    "        csv_file_path = 'Ireland-RentMarket10.csv'\n",
    "\n",
    "        file = open('Ireland-RentMarket10.csv', 'a+', newline='')\n",
    "        writer = csv.writer(file)\n",
    "\n",
    "        for address, price, bedroom, bathroom, property_type, floor_area in zip(addresses, prices, bedrooms, bathrooms, property_types):\n",
    "            writer.writerow([address.text, price.text, bedroom.text, bathroom.text, property_type.text, current_date])\n",
    "        \n",
    "        print(f\"Processed {i} items\")\n",
    "    else:\n",
    "        print(f\"Failed to retrieve data from {url}\")\n"
   ]
  },
  {
   "cell_type": "code",
   "execution_count": null,
   "id": "b60d35a6",
   "metadata": {},
   "outputs": [],
   "source": [
    "browser_driver = Service('/usr/local/bin/chromedriver')\n",
    "\n",
    "page_to_scrape = webdriver.Chrome(service=browser_driver)\n",
    "page_to_scrape.get(\"http://quotes.toscrape.com\")\n",
    "\n",
    "page_to_scrape.find_element(By.LINK_TEXT, \"Login\").click()\n",
    "\n",
    "time.sleep(3)\n",
    "\n",
    "\n",
    "username = page_to_scrape.find_element(By.ID, \"username\")\n",
    "password = page_to_scrape.find_element(By.ID, \"password\")\n",
    "\n",
    "\n",
    "username.send_keys(\"admin\")\n",
    "password.send_keys(\"123\")\n",
    "page_to_scrape.find_element(By.CSS_SELECTOR, \"input.btn-primary\").click()\n",
    "\n",
    "\n",
    "file = open(\"quotes_test4.csv\", 'w')\n",
    "writer = csv.writer(file)\n",
    "writer.writerow([\"Quote\", \"Author\"])\n",
    "\n",
    "\n",
    "while True:\n",
    "    quotes = page_to_scrape.find_elements(By.CLASS_NAME, \"text\")\n",
    "    authors = page_to_scrape.find_elements(By.CLASS_NAME, \"author\")\n",
    "    for quote, author in zip(quotes, authors):\n",
    "        print(quote.text + \"-\" + author.text)\n",
    "        writer.writerow([quote.text, author.text])\n",
    "    try:\n",
    "        page_to_scrape.find_element(By.PARTIAL_LINK_TEXT, \"Next\").click()\n",
    "    except NoSuchElementException:\n",
    "        break\n",
    "        \n",
    "file.close()\n"
   ]
  }
 ],
 "metadata": {
  "kernelspec": {
   "display_name": "Python 3 (ipykernel)",
   "language": "python",
   "name": "python3"
  },
  "language_info": {
   "codemirror_mode": {
    "name": "ipython",
    "version": 3
   },
   "file_extension": ".py",
   "mimetype": "text/x-python",
   "name": "python",
   "nbconvert_exporter": "python",
   "pygments_lexer": "ipython3",
   "version": "3.9.13"
  }
 },
 "nbformat": 4,
 "nbformat_minor": 5
}
